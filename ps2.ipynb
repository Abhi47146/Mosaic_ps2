{
  "cells": [
    {
      "cell_type": "code",
      "source": [
        "%tensorflow_version 2.x\n",
        "\n",
        "import tensorflow as tf\n",
        "print(tf.__version__)\n",
        "print(tf.test.gpu_device_name())\n",
        "print(\"Num GPUs Available: \", len(tf.config.experimental.list_physical_devices('GPU')))"
      ],
      "metadata": {
        "id": "HcbTF5u2byJ9"
      },
      "execution_count": null,
      "outputs": []
    },
    {
      "cell_type": "code",
      "source": [
        "!nvidia-smi #check type of GPU"
      ],
      "metadata": {
        "id": "u3lJYi1mbkDg"
      },
      "execution_count": null,
      "outputs": []
    },
    {
      "cell_type": "code",
      "source": [
        "!pip install wandb -q"
      ],
      "metadata": {
        "id": "TcTP2TsNb-wV"
      },
      "execution_count": null,
      "outputs": []
    },
    {
      "cell_type": "code",
      "source": [
        "from tensorflow import keras\n",
        "\n",
        "print('[INFO]', tf.config.experimental.list_physical_devices('GPU')[0])"
      ],
      "metadata": {
        "id": "Zg9m77WbcOmO"
      },
      "execution_count": null,
      "outputs": []
    },
    {
      "cell_type": "code",
      "source": [
        "import wandb\n",
        "from wandb.keras import WandbCallback\n",
        "# Api key=93cf323740f14c9383464a7acc04de7d28fc66ea\n",
        "wandb.login()"
      ],
      "metadata": {
        "id": "IU8VYXZMcm1x"
      },
      "execution_count": null,
      "outputs": []
    },
    {
      "cell_type": "code",
      "source": [
        "from google.colab import drive\n",
        "drive.mount('/content/drive')"
      ],
      "metadata": {
        "id": "RQAMMBKEw0k1"
      },
      "execution_count": null,
      "outputs": []
    },
    {
      "cell_type": "code",
      "source": [
        "import os\n",
        "import cv2\n",
        "import numpy as np\n",
        "\n",
        "import matplotlib.pyplot as plt\n",
        "%matplotlib inline\n",
        "\n",
        "from mpl_toolkits.axes_grid1 import ImageGrid"
      ],
      "metadata": {
        "id": "dcZotx0vdYzv"
      },
      "execution_count": null,
      "outputs": []
    },
    {
      "cell_type": "code",
      "source": [
        "(x_train, y_train), (x_test, y_test) = keras.datasets.cifar10.load_data()\n",
        "print('x_train shape:', x_train.shape)\n",
        "print(x_train.shape[0], 'train samples')\n",
        "print(x_test.shape[0], 'test samples')"
      ],
      "metadata": {
        "id": "a5JfZYKRde1I"
      },
      "execution_count": null,
      "outputs": []
    },
    {
      "cell_type": "code",
      "source": [
        "# !pip install kaggle\n",
        "\n",
        "# from google.colab import files\n",
        "# files.upload()\n",
        "\n",
        "# !mkdir ~/.kaggle\n",
        "# !cp kaggle.json ~/.kaggle/\n",
        "# !chmod 600 ~/.kaggle/kaggle.json\n",
        "\n",
        "# !kaggle datasets download -d imbikramsaha/caltech-101"
      ],
      "metadata": {
        "id": "_EWpvGj3uxQ5"
      },
      "execution_count": null,
      "outputs": []
    },
    {
      "cell_type": "code",
      "source": [
        "# x_images=[]\n",
        "\n",
        "# for i in os.listdir('/content/caltech-101'):\n",
        "#   path=os.path.join('/content/caltech-101',i)\n",
        "#   for j in os.listdir(path):\n",
        "#     print(j)\n",
        "#     path_=os.path.join(path,j)\n",
        "#     print(path_)\n",
        "#     image=cv2.imread(path_)\n",
        "#     image=cv2.resize(image,(256,256))\n",
        "#     x_images.append(image)\n"
      ],
      "metadata": {
        "id": "BVjYnfOH3S2-"
      },
      "execution_count": null,
      "outputs": []
    },
    {
      "cell_type": "code",
      "source": [
        "#!unzip /content/caltech-101.zip"
      ],
      "metadata": {
        "id": "oPmvb1qL0o90"
      },
      "execution_count": null,
      "outputs": []
    },
    {
      "cell_type": "code",
      "source": [],
      "metadata": {
        "id": "iXvqTqv6qaRF"
      },
      "execution_count": null,
      "outputs": []
    },
    {
      "cell_type": "code",
      "source": [
        "# from google.colab.patches import cv2_imshow\n",
        "# cv2_imshow(image)\n",
        "# cv2.waitKey()\n",
        "# cv2.destroyAllWindows()"
      ],
      "metadata": {
        "id": "CzS9Feh1qBWw"
      },
      "execution_count": null,
      "outputs": []
    },
    {
      "cell_type": "code",
      "source": [
        "## Get first 32 images as samples\n",
        "sample_images = x_train[:32]\n",
        "sample_labels = y_train[:32]\n",
        "\n",
        "fig = plt.figure(figsize=(16., 8.))\n",
        "grid = ImageGrid(fig, 111,\n",
        "                 nrows_ncols=(8, 4),  # creates 2x2 grid of axes\n",
        "                 axes_pad=0.3,  # pad between axes in inch.\n",
        "                 )\n",
        "\n",
        "for ax, image, label in zip(grid, sample_images, sample_labels):\n",
        "  ax.imshow(image)\n",
        "  ax.set_title(label[0])\n",
        "\n",
        "plt.show()"
      ],
      "metadata": {
        "id": "MEHnQpijd7-G"
      },
      "execution_count": null,
      "outputs": []
    },
    {
      "cell_type": "code",
      "source": [
        "\n",
        "class createAugment(keras.utils.Sequence):\n",
        "  'Generates data for Keras'\n",
        "  def __init__(self, X, y, batch_size=32, dim=(32, 32), n_channels=3, shuffle=True):\n",
        "      'Initialization'\n",
        "      self.batch_size = batch_size \n",
        "      self.X = X \n",
        "      self.y = y\n",
        "      self.dim = dim\n",
        "      self.n_channels = n_channels\n",
        "      self.shuffle = shuffle\n",
        "      \n",
        "      self.on_epoch_end()\n",
        "\n",
        "  def __len__(self):\n",
        "      'Denotes the number of batches per epoch'\n",
        "      return int(np.floor(len(self.X) / self.batch_size))\n",
        "\n",
        "  def __getitem__(self, index):\n",
        "      'Generate one batch of data'\n",
        "      # Generate indexes of the batch\n",
        "      indexes = self.indexes[index*self.batch_size:(index+1)*self.batch_size]\n",
        "\n",
        "      # Generate data\n",
        "      return self.__data_generation(indexes)\n",
        "\n",
        "  def on_epoch_end(self):\n",
        "      'Updates indexes after each epoch'\n",
        "      self.indexes = np.arange(len(self.X))\n",
        "      if self.shuffle:\n",
        "          np.random.shuffle(self.indexes)\n",
        "\n",
        "  def __data_generation(self, idxs):\n",
        "    # X_batch is a matrix of masked images used as input\n",
        "    X_batch = np.empty((self.batch_size, self.dim[0], self.dim[1], self.n_channels)) # Masked image\n",
        "    # y_batch is a matrix of original images used for computing error from reconstructed image\n",
        "    y_batch = np.empty((self.batch_size, self.dim[0], self.dim[1], self.n_channels)) # Original image\n",
        "\n",
        "    ## Iterate through random indexes\n",
        "    for i, idx in enumerate(idxs):\n",
        "      image_copy = self.X[idx].copy()\n",
        "  \n",
        "      ## Get mask associated to that image\n",
        "      masked_image = self.__createMask(image_copy)\n",
        "      \n",
        "      X_batch[i,] = masked_image/255\n",
        "      y_batch[i] = self.y[idx]/255\n",
        "      \n",
        "    return X_batch, y_batch\n",
        "\n",
        "  def __createMask(self, img):\n",
        "    ## Prepare masking matrix\n",
        "    mask = np.full((32,32,3), 255, np.uint8)\n",
        "    for _ in range(np.random.randint(1, 10)):\n",
        "      # Get random x locations to start line\n",
        "      x1, x2 = np.random.randint(1, 32), np.random.randint(1, 32)\n",
        "      # Get random y locations to start line\n",
        "      y1, y2 = np.random.randint(1, 32), np.random.randint(1, 32)\n",
        "      # Get random thickness of the line drawn\n",
        "      thickness = np.random.randint(1, 3)\n",
        "      # Draw black line on the white mask\n",
        "      cv2.line(mask,(x1,y1),(x2,y2),(1,1,1),thickness)\n",
        "\n",
        "    # Perforn bitwise and operation to mak the image\n",
        "    masked_image = cv2.bitwise_and(img, mask)\n",
        "\n",
        "    return masked_image"
      ],
      "metadata": {
        "id": "TYiIYZq8evBT"
      },
      "execution_count": null,
      "outputs": []
    },
    {
      "cell_type": "code",
      "source": [
        "## Prepare training and testing mask-image pair generator\n",
        "traingen = createAugment(x_train, x_train)\n",
        "testgen = createAugment(x_test, x_test, shuffle=False)"
      ],
      "metadata": {
        "id": "2Kf2nrAKg4DT"
      },
      "execution_count": null,
      "outputs": []
    },
    {
      "cell_type": "code",
      "source": [
        "## Examples\n",
        "sample_idx = 90 ## Change this to see different batches\n",
        "\n",
        "sample_masks, sample_labels = traingen[sample_idx]\n",
        "sample_images = [None]*(len(sample_masks)+len(sample_labels))\n",
        "sample_images[::2] = sample_labels\n",
        "sample_images[1::2] = sample_masks\n",
        "\n",
        "fig = plt.figure(figsize=(16., 8.))\n",
        "grid = ImageGrid(fig, 111,  # similar to subplot(111)\n",
        "                 nrows_ncols=(4, 8),  # creates 2x2 grid of axes\n",
        "                 axes_pad=0.3,  # pad between axes in inch.\n",
        "                 )\n",
        "\n",
        "for ax, image in zip(grid, sample_images):\n",
        "  ax.imshow(image)\n",
        "\n",
        "plt.show()"
      ],
      "metadata": {
        "id": "mZgcyLbihBUH"
      },
      "execution_count": null,
      "outputs": []
    },
    {
      "cell_type": "code",
      "source": [
        "\n",
        "def dice_coef(y_true, y_pred):\n",
        "    y_true_f = keras.backend.flatten(y_true)\n",
        "    y_pred_f = keras.backend.flatten(y_pred)\n",
        "    intersection = keras.backend.sum(y_true_f * y_pred_f)\n",
        "    return (2. * intersection) / (keras.backend.sum(y_true_f + y_pred_f))"
      ],
      "metadata": {
        "id": "WVmR-AVyhKLA"
      },
      "execution_count": null,
      "outputs": []
    },
    {
      "cell_type": "code",
      "source": [
        "class inpaintingModel:\n",
        "  '''\n",
        "  Build UNET like model for image inpaining task.\n",
        "  '''\n",
        "  def prepare_model(self, input_size=(32,32,3)):\n",
        "    inputs = keras.layers.Input(input_size)\n",
        "\n",
        "    conv1, pool1 = self.__ConvBlock(32, (3,3), (2,2), 'relu', 'same', inputs) \n",
        "    conv2, pool2 = self.__ConvBlock(64, (3,3), (2,2), 'relu', 'same', pool1)\n",
        "    conv3, pool3 = self.__ConvBlock(128, (3,3), (2,2), 'relu', 'same', pool2) \n",
        "    conv4, pool4 = self.__ConvBlock(256, (3,3), (2,2), 'relu', 'same', pool3) \n",
        "    \n",
        "    conv5, up6 = self.__UpConvBlock(512, 256, (3,3), (2,2), (2,2), 'relu', 'same', pool4, conv4)\n",
        "    conv6, up7 = self.__UpConvBlock(256, 128, (3,3), (2,2), (2,2), 'relu', 'same', up6, conv3)\n",
        "    conv7, up8 = self.__UpConvBlock(128, 64, (3,3), (2,2), (2,2), 'relu', 'same', up7, conv2)\n",
        "    conv8, up9 = self.__UpConvBlock(64, 32, (3,3), (2,2), (2,2), 'relu', 'same', up8, conv1)\n",
        "    \n",
        "    conv9 = self.__ConvBlock(32, (3,3), (2,2), 'relu', 'same', up9, False)\n",
        "    \n",
        "    outputs = keras.layers.Conv2D(3, (3, 3), activation='sigmoid', padding='same')(conv9)\n",
        "\n",
        "    return keras.models.Model(inputs=[inputs], outputs=[outputs])  \n",
        "\n",
        "  def __ConvBlock(self, filters, kernel_size, pool_size, activation, padding, connecting_layer, pool_layer=True):\n",
        "    conv = keras.layers.Conv2D(filters=filters, kernel_size=kernel_size, activation=activation, padding=padding)(connecting_layer)\n",
        "    conv = keras.layers.Conv2D(filters=filters, kernel_size=kernel_size, activation=activation, padding=padding)(conv)\n",
        "    if pool_layer:\n",
        "      pool = keras.layers.MaxPooling2D(pool_size)(conv)\n",
        "      return conv, pool\n",
        "    else:\n",
        "      return conv\n",
        "\n",
        "  def __UpConvBlock(self, filters, up_filters, kernel_size, up_kernel, up_stride, activation, padding, connecting_layer, shared_layer):\n",
        "    conv = keras.layers.Conv2D(filters=filters, kernel_size=kernel_size, activation=activation, padding=padding)(connecting_layer)\n",
        "    conv = keras.layers.Conv2D(filters=filters, kernel_size=kernel_size, activation=activation, padding=padding)(conv)\n",
        "    up = keras.layers.Conv2DTranspose(filters=up_filters, kernel_size=up_kernel, strides=up_stride, padding=padding)(conv)\n",
        "    up = keras.layers.concatenate([up, shared_layer], axis=3)\n",
        "\n",
        "    return conv, up"
      ],
      "metadata": {
        "id": "s48WbVo8hSwh"
      },
      "execution_count": null,
      "outputs": []
    },
    {
      "cell_type": "code",
      "source": [
        "keras.backend.clear_session()\n",
        "model = inpaintingModel().prepare_model()\n",
        "model.compile(optimizer='adam', loss='mean_absolute_error', metrics=[dice_coef])\n",
        "keras.utils.plot_model(model, show_shapes=True, dpi=76, to_file='model_v1.png')"
      ],
      "metadata": {
        "id": "pdpsIsIth-XL"
      },
      "execution_count": null,
      "outputs": []
    },
    {
      "cell_type": "code",
      "source": [
        "wandb.init(entity='abhishek-ukumar-ece21', project=\"image-impainting\")"
      ],
      "metadata": {
        "id": "2pf5nu1Ti2R0"
      },
      "execution_count": null,
      "outputs": []
    },
    {
      "cell_type": "code",
      "source": [
        "class PredictionLogger(tf.keras.callbacks.Callback):\n",
        "    def __init__(self):\n",
        "        super(PredictionLogger, self).__init__()\n",
        "\n",
        "    def on_epoch_end(self, logs, epoch):\n",
        "        sample_idx = 54\n",
        "        sample_images, sample_labels = testgen[sample_idx]  \n",
        "        \n",
        "        images = []\n",
        "        labels = []\n",
        "        predictions = []\n",
        "        \n",
        "        for i in range(32):\n",
        "            inpainted_image = self.model.predict(np.expand_dims(sample_images[i], axis=0))\n",
        "\n",
        "            images.append(sample_images[i])\n",
        "            labels.append(sample_labels[i])\n",
        "            predictions.append(inpainted_image.reshape(inpainted_image.shape[1:]))\n",
        "\n",
        "        wandb.log({\"images\": [wandb.Image(image)\n",
        "                              for image in images]})\n",
        "        wandb.log({\"labels\": [wandb.Image(label)\n",
        "                              for label in labels]})\n",
        "        wandb.log({\"predictions\": [wandb.Image(inpainted_image)\n",
        "                              for inpainted_image in predictions]})"
      ],
      "metadata": {
        "id": "J240wrE8iKmO"
      },
      "execution_count": null,
      "outputs": []
    },
    {
      "cell_type": "code",
      "source": [
        "_ = model.fit(traingen, \n",
        "          validation_data=testgen, \n",
        "          epochs=20, \n",
        "          steps_per_epoch=len(traingen), \n",
        "          validation_steps=len(testgen),\n",
        "          use_multiprocessing=True,\n",
        "          callbacks=[WandbCallback(),\n",
        "                     PredictionLogger()])"
      ],
      "metadata": {
        "id": "-V0caZ96ipy9"
      },
      "execution_count": null,
      "outputs": []
    },
    {
      "cell_type": "code",
      "source": [],
      "metadata": {
        "id": "aCOLXAmMZtir"
      },
      "execution_count": null,
      "outputs": []
    },
    {
      "cell_type": "code",
      "source": [
        "# ## Examples\n",
        "# import os\n",
        "# rows = 1\n",
        "# sample_idx =0\n",
        "# # sample_images, sample_labels =traingen[sample_idx]\n",
        "# path = \"/content/drive/MyDrive/Mosaic_PS2_Sample_data/Mosaic PS2 Sample Testing Dataset\"\n",
        "# imgs = os.listdir(path)\n",
        "# imgs.sort()\n",
        "# sample_images = []\n",
        "# sample_labels = []\n",
        "\n",
        "# for img in imgs:\n",
        "#   if (\"inpainted\" in img):\n",
        "#     img_arr = cv2.imread(os.path.join(path, img))\n",
        "#     sample_images.append(img_arr)\n",
        "#   elif (\"inpainted\" not in img and \"mask\" not in img):\n",
        "#     img_arr = cv2.imread(os.path.join(path, img))\n",
        "#     sample_labels.append(img_arr)\n",
        "# sample_labels[0], sample_labels[1] = sample_labels[1], sample_labels[0]\n",
        "  \n",
        "# #print(plt.imshow(sample_labels[0]))\n",
        "\n",
        "# fig, axs = plt.subplots(nrows=rows, ncols=3, figsize=(6, 2*rows))\n",
        "\n",
        "# for i in range(10):\n",
        "#   impainted_image = model.predict(sample_images[i].reshape((1,)+sample_images[i].shape))\n",
        "#   impainted_image = impainted_image.resize(256, 256, 3)\n",
        "#   axs[i][0].imshow(sample_labels[i])\n",
        "#   axs[i][1].imshow(sample_images[i])\n",
        "#   axs[i][2].imshow(impainted_image.reshape(impainted_image.shape[1:]))\n",
        "\n",
        "# plt.show()\n",
        "rows = 32\n",
        "sample_idx = 54\n",
        "sample_images, sample_labels = traingen[sample_idx]\n",
        "\n",
        "fig, axs = plt.subplots(nrows=rows, ncols=3, figsize=(6, 2*rows))\n",
        "\n",
        "for i in range(32):\n",
        "  impainted_image = model.predict(sample_images[i].reshape((1,)+sample_images[i].shape))\n",
        "  axs[i][0].imshow(sample_labels[i])\n",
        "  axs[i][1].imshow(sample_images[i])\n",
        "  axs[i][2].imshow(impainted_image.reshape(impainted_image.shape[1:]))\n",
        "\n",
        "plt.show()"
      ],
      "metadata": {
        "id": "j1Zx_hLmyyOf"
      },
      "execution_count": null,
      "outputs": []
    },
    {
      "cell_type": "code",
      "source": [
        "#sample_images[0].reshape((1,)+sample_images[0].shape)"
      ],
      "metadata": {
        "id": "e6_vCS1DzZjl"
      },
      "execution_count": null,
      "outputs": []
    },
    {
      "cell_type": "code",
      "source": [
        "#plt.imshow(cv2.resize(sample_images[0], (32, 32, 3)))"
      ],
      "metadata": {
        "id": "6OpTINmmAxe6"
      },
      "execution_count": null,
      "outputs": []
    },
    {
      "cell_type": "code",
      "source": [
        "from google.colab import drive\n",
        "drive.mount('/content/drive')"
      ],
      "metadata": {
        "id": "WBrfK3eGO6pt"
      },
      "execution_count": null,
      "outputs": []
    },
    {
      "cell_type": "code",
      "source": [
        "model.save(\"/content/drive/MyDrive/mosaic_ps2/\")"
      ],
      "metadata": {
        "id": "0wWgmbVMA3Nl"
      },
      "execution_count": null,
      "outputs": []
    }
  ],
  "metadata": {
    "colab": {
      "provenance": [],
      "private_outputs": true
    },
    "kernelspec": {
      "display_name": "Python 3",
      "name": "python3"
    },
    "language_info": {
      "name": "python"
    },
    "accelerator": "GPU",
    "gpuClass": "standard"
  },
  "nbformat": 4,
  "nbformat_minor": 0
}